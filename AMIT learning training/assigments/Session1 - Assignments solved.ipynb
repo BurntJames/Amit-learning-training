{
 "cells": [
  {
   "cell_type": "markdown",
   "id": "c067dcd9",
   "metadata": {},
   "source": [
    "### Q1. Create a list of five integers and print it."
   ]
  },
  {
   "cell_type": "code",
   "execution_count": null,
   "id": "19a0e252",
   "metadata": {},
   "outputs": [],
   "source": [
    "age=[5, 60, 20, 44, 31]\n",
    "age \n",
    "print(age)"
   ]
  },
  {
   "cell_type": "markdown",
   "id": "a2d05fd3",
   "metadata": {},
   "source": [
    "### Q2. Write a program to find the length of a list."
   ]
  },
  {
   "cell_type": "code",
   "execution_count": null,
   "id": "6b75c5d1",
   "metadata": {},
   "outputs": [],
   "source": [
    "age=[5, 60, 20, 44, 31]\n",
    "print(len(age))"
   ]
  },
  {
   "cell_type": "markdown",
   "id": "c705d6ac",
   "metadata": {},
   "source": [
    "### Q3. Create a tuple with three elements and print the second item."
   ]
  },
  {
   "cell_type": "code",
   "execution_count": null,
   "id": "61c1e11e",
   "metadata": {},
   "outputs": [],
   "source": [
    "name=('ahmed, ali, omar')\n",
    "print(name,[1])"
   ]
  },
  {
   "cell_type": "markdown",
   "id": "a3fb1843",
   "metadata": {},
   "source": [
    "### Q4. Create a dictionary with 3 key-value pairs and print all keys."
   ]
  },
  {
   "cell_type": "code",
   "execution_count": null,
   "id": "c588c043",
   "metadata": {},
   "outputs": [],
   "source": [
    "data=['modern' 1992 'enginnering']\n",
    "print(data)"
   ]
  },
  {
   "cell_type": "markdown",
   "id": "499c5644",
   "metadata": {},
   "source": [
    "### Q5. Write a program to convert a list into a set."
   ]
  },
  {
   "cell_type": "code",
   "execution_count": null,
   "id": "5b3e7b61",
   "metadata": {},
   "outputs": [],
   "source": [
    "names=['ali, omar, sayed']\n",
    "chnage=set(names)"
   ]
  },
  {
   "cell_type": "markdown",
   "id": "a0e55b4f",
   "metadata": {},
   "source": [
    "### Q6. Create a string and print its first and last characters."
   ]
  },
  {
   "cell_type": "code",
   "execution_count": null,
   "id": "b5cc0d08",
   "metadata": {},
   "outputs": [],
   "source": [
    "name=['aya, lila, mennah, serah']\n",
    "print(max(name))\n",
    "print(min(name))"
   ]
  },
  {
   "cell_type": "markdown",
   "id": "f4adb032",
   "metadata": {},
   "source": [
    "### Q7. Take input from the user and print it."
   ]
  },
  {
   "cell_type": "code",
   "execution_count": null,
   "id": "cc325325",
   "metadata": {},
   "outputs": [],
   "source": [
    "fname=james\n",
    "print(fname)"
   ]
  },
  {
   "cell_type": "markdown",
   "id": "32003cd3",
   "metadata": {},
   "source": [
    "### Q8. Write a program to add two numbers entered by the user."
   ]
  },
  {
   "cell_type": "code",
   "execution_count": null,
   "id": "1cce015b",
   "metadata": {},
   "outputs": [],
   "source": [
    "num1=int(input(5))\n",
    "num2=int(input(4))\n",
    "sum=num1+num2\n",
    "print(sum)"
   ]
  },
  {
   "cell_type": "markdown",
   "id": "7eb34a32",
   "metadata": {},
   "source": [
    "### Q9. Use `type()` function to check the data type of a variable."
   ]
  },
  {
   "cell_type": "code",
   "execution_count": null,
   "id": "cfd2011d",
   "metadata": {},
   "outputs": [],
   "source": [
    "a=21\n",
    "b=str(a)\n",
    "print(type(a),type(b))"
   ]
  },
  {
   "cell_type": "markdown",
   "id": "be64d8e2",
   "metadata": {},
   "source": [
    "### Q10. Create a boolean variable and print it."
   ]
  },
  {
   "cell_type": "code",
   "execution_count": null,
   "id": "46812973",
   "metadata": {},
   "outputs": [],
   "source": [
    "ahmed_is_21=True\n",
    "print(ahmed_is_21)"
   ]
  },
  {
   "cell_type": "markdown",
   "id": "53765968",
   "metadata": {},
   "source": [
    "### Q11. Check if a number is positive, negative, or zero using `if` statement."
   ]
  },
  {
   "cell_type": "code",
   "execution_count": null,
   "id": "0623e6d5",
   "metadata": {},
   "outputs": [],
   "source": [
    "num=int(input(5))\n",
    "if num>0:\n",
    " print(+ve)\n",
    "elif num<0:\n",
    " print(-ve)\n",
    "else:\n",
    " print(0)"
   ]
  },
  {
   "cell_type": "markdown",
   "id": "79b115a2",
   "metadata": {},
   "source": [
    "### Q12. Write a program to check if a number is even or odd."
   ]
  },
  {
   "cell_type": "code",
   "execution_count": null,
   "id": "efcc28dc",
   "metadata": {},
   "outputs": [],
   "source": [
    "num=int(input(4))\n",
    "if num%2:\n",
    " print(number even)\n",
    "else:\n",
    "  print(number odd)"
   ]
  },
  {
   "cell_type": "markdown",
   "id": "4e15996d",
   "metadata": {},
   "source": [
    "### Q13. Write a program that prints your name 3 times using a `for` loop."
   ]
  },
  {
   "cell_type": "code",
   "execution_count": null,
   "id": "a213b9fd",
   "metadata": {},
   "outputs": [],
   "source": [
    "i=ahmed\n",
    "for i in range (3):\n",
    "    print(i)"
   ]
  },
  {
   "cell_type": "markdown",
   "id": "3deb94cc",
   "metadata": {},
   "source": [
    "### Q14. Write a `for` loop that prints numbers from 1 to 10."
   ]
  },
  {
   "cell_type": "code",
   "execution_count": null,
   "id": "2f806196",
   "metadata": {},
   "outputs": [],
   "source": [
    "for i in range(1,11):\n",
    "    print(i)"
   ]
  },
  {
   "cell_type": "markdown",
   "id": "ede90dd1",
   "metadata": {},
   "source": [
    "### Q15. Use a `for` loop to iterate over a list and print each element."
   ]
  },
  {
   "cell_type": "code",
   "execution_count": null,
   "id": "ca9ff07e",
   "metadata": {},
   "outputs": [],
   "source": [
    "l = [1, 4, 8, 54, 62, 100, 0]\n",
    "for i in range(len(l)):\n",
    "    print(l[i])"
   ]
  },
  {
   "cell_type": "markdown",
   "id": "850c2ca8",
   "metadata": {},
   "source": [
    "### Q16. Write a program to calculate the sum of numbers from 1 to 100."
   ]
  },
  {
   "cell_type": "code",
   "execution_count": null,
   "id": "16a8cd5c",
   "metadata": {},
   "outputs": [],
   "source": [
    "num=0\n",
    "for i in range(1,101):\n",
    " num += i \n",
    "print(num)"
   ]
  },
  {
   "cell_type": "markdown",
   "id": "6250746b",
   "metadata": {},
   "source": [
    "### Q17. Write a `for` loop that prints only even numbers from 1 to 20."
   ]
  },
  {
   "cell_type": "code",
   "execution_count": null,
   "id": "2764eb99",
   "metadata": {},
   "outputs": [],
   "source": [
    "num=0\n",
    "for i in range(1,21):\n",
    " if i % 2 ==0 :\n",
    "   print(num)"
   ]
  },
  {
   "cell_type": "markdown",
   "id": "3b2408b5",
   "metadata": {},
   "source": [
    "### Q18. Write a `for` loop to print each character in a string."
   ]
  },
  {
   "cell_type": "code",
   "execution_count": null,
   "id": "fc73c912",
   "metadata": {},
   "outputs": [],
   "source": [
    "for i in 'ahmed':\n",
    "    print(i)"
   ]
  },
  {
   "cell_type": "markdown",
   "id": "c75cb287",
   "metadata": {},
   "source": [
    "### Q19. Use a `for` loop to print all values in a dictionary."
   ]
  },
  {
   "cell_type": "code",
   "execution_count": null,
   "id": "62d9d757",
   "metadata": {},
   "outputs": [],
   "source": []
  },
  {
   "cell_type": "markdown",
   "id": "6994e4ca",
   "metadata": {},
   "source": [
    "### Q20. Write a program that uses a `for` loop to find the factorial of a number."
   ]
  },
  {
   "cell_type": "code",
   "execution_count": null,
   "id": "254cb435",
   "metadata": {},
   "outputs": [],
   "source": [
    "num=int(input(3))\n",
    "factorial=1\n",
    "if "
   ]
  },
  {
   "cell_type": "markdown",
   "id": "92d3b300",
   "metadata": {},
   "source": [
    "### Q21. Create a list of your 5 favorite fruits."
   ]
  },
  {
   "cell_type": "code",
   "execution_count": null,
   "id": "3f2d07e3",
   "metadata": {},
   "outputs": [],
   "source": [
    "fruits=['apple ,watermelon, peaches, grapes, mango']\n",
    "print(fruits)"
   ]
  },
  {
   "cell_type": "markdown",
   "id": "e3433500",
   "metadata": {},
   "source": [
    "### Q22. Add a new fruit to your list of favorite fruits."
   ]
  },
  {
   "cell_type": "code",
   "execution_count": null,
   "id": "f9ffd8d2",
   "metadata": {},
   "outputs": [],
   "source": [
    "fruits=['apple ,watermelon, peaches, grapes, mango']\n",
    "fruits.append('banana')\n",
    "print(fruits)"
   ]
  },
  {
   "cell_type": "markdown",
   "id": "a33917e4",
   "metadata": {},
   "source": [
    "### Q23. Remove the second item from a list."
   ]
  },
  {
   "cell_type": "code",
   "execution_count": null,
   "id": "0fac364c",
   "metadata": {},
   "outputs": [],
   "source": [
    "fruits=['apple ,watermelon, peaches, grapes, mango']\n",
    "del fruits(1)\n",
    "print(fruits)"
   ]
  },
  {
   "cell_type": "markdown",
   "id": "497047c6",
   "metadata": {},
   "source": [
    "### Q24. Sort a list of numbers in descending order."
   ]
  },
  {
   "cell_type": "code",
   "execution_count": null,
   "id": "b9717e06",
   "metadata": {},
   "outputs": [],
   "source": [
    "names=['ahmed, sayed, mohamed, abduallah']\n",
    "print(sorted(names,reverse=True))"
   ]
  },
  {
   "cell_type": "markdown",
   "id": "6a3a29ad",
   "metadata": {},
   "source": [
    "### Q25. Find the maximum and minimum values in a list."
   ]
  },
  {
   "cell_type": "code",
   "execution_count": null,
   "id": "82cc41dd",
   "metadata": {},
   "outputs": [],
   "source": [
    "nums=['1, 2, 5, 88']\n",
    "print(max(nums))\n",
    "print(min(nums))"
   ]
  },
  {
   "cell_type": "markdown",
   "id": "a5077085",
   "metadata": {},
   "source": [
    "### Q26. Count how many times a value appears in a list."
   ]
  },
  {
   "cell_type": "code",
   "execution_count": null,
   "id": "5953d267",
   "metadata": {},
   "outputs": [],
   "source": [
    "nums=['5, 4, 33, 5, 66, 5']\n",
    "nums.count=['5, 4, 33, 5, 66, 5']\n",
    "print(nums.count)\n"
   ]
  },
  {
   "cell_type": "markdown",
   "id": "e767871e",
   "metadata": {},
   "source": [
    "### Q27. Check if a specific value exists in a list."
   ]
  },
  {
   "cell_type": "code",
   "execution_count": null,
   "id": "97bb90bd",
   "metadata": {},
   "outputs": [],
   "source": [
    "nums=['55, 66, 2, 11, 34']\n",
    "if 55 in nums:\n",
    " print(true)\n",
    "else:\n",
    "  print(false)"
   ]
  },
  {
   "cell_type": "markdown",
   "id": "346632ba",
   "metadata": {},
   "source": [
    "### Q28. Reverse a list without using reverse() function."
   ]
  },
  {
   "cell_type": "code",
   "execution_count": null,
   "id": "663befc6",
   "metadata": {},
   "outputs": [],
   "source": [
    "names:['ahmed, lila, khalid, fatma'] \n",
    "reversenames=names[::-1]\n",
    "print(reversenames)\n"
   ]
  },
  {
   "cell_type": "markdown",
   "id": "4f28f319",
   "metadata": {},
   "source": [
    "### Q29. Make a copy of a list and modify the copy only."
   ]
  },
  {
   "cell_type": "code",
   "execution_count": null,
   "id": "e665fc96",
   "metadata": {},
   "outputs": [],
   "source": [
    "nums=['1, 44, 55, 75']\n",
    "nums2=nums.copy()\n",
    "print(nums2)"
   ]
  },
  {
   "cell_type": "markdown",
   "id": "4fd7ffdf",
   "metadata": {},
   "source": [
    "### Q30. Use slicing to get the first 3 items of a list."
   ]
  },
  {
   "cell_type": "code",
   "execution_count": null,
   "id": "5109bd94",
   "metadata": {},
   "outputs": [],
   "source": []
  },
  {
   "cell_type": "markdown",
   "id": "fa7d8cbc",
   "metadata": {},
   "source": [
    "### Q31. Create a tuple with 4 elements and print its length."
   ]
  },
  {
   "cell_type": "code",
   "execution_count": null,
   "id": "1d519f4c",
   "metadata": {},
   "outputs": [],
   "source": [
    "t=(33,34,35,36)\n",
    "print(len(t))"
   ]
  },
  {
   "cell_type": "markdown",
   "id": "1fc14e2a",
   "metadata": {},
   "source": [
    "### Q32. Access the last element of a tuple."
   ]
  },
  {
   "cell_type": "code",
   "execution_count": null,
   "id": "924f8f7f",
   "metadata": {},
   "outputs": [],
   "source": [
    "t=(33,34,35,36)\n",
    "print(t.index(3))"
   ]
  },
  {
   "cell_type": "markdown",
   "id": "31393230",
   "metadata": {},
   "source": [
    "### Q33. Convert a tuple into a list."
   ]
  },
  {
   "cell_type": "code",
   "execution_count": null,
   "id": "d419f723",
   "metadata": {},
   "outputs": [],
   "source": [
    "t1=(33,34,35,36)\n",
    "t2=list(t1)\n",
    "print(t1)"
   ]
  },
  {
   "cell_type": "markdown",
   "id": "f2605bd7",
   "metadata": {},
   "source": [
    "### Q34. Convert a list into a tuple."
   ]
  },
  {
   "cell_type": "code",
   "execution_count": null,
   "id": "2fc2424c",
   "metadata": {},
   "outputs": [],
   "source": [
    "l1=['1, 2, 3, 4, 5']\n",
    "l2=tuple(l1)\n",
    "print(l2)"
   ]
  },
  {
   "cell_type": "markdown",
   "id": "8ea26fed",
   "metadata": {},
   "source": [
    "### Q35. Check if a value exists in a tuple."
   ]
  },
  {
   "cell_type": "code",
   "execution_count": null,
   "id": "502ca8ef",
   "metadata": {},
   "outputs": [],
   "source": [
    "t1=(33,34,35,36)\n",
    "if 33 in t1:\n",
    "    print(yes)\n",
    "else:\n",
    "    print(no)"
   ]
  },
  {
   "cell_type": "markdown",
   "id": "1861d487",
   "metadata": {},
   "source": [
    "### Q36. Concatenate two tuples."
   ]
  },
  {
   "cell_type": "code",
   "execution_count": null,
   "id": "25990032",
   "metadata": {},
   "outputs": [],
   "source": [
    "t1=(33,34,35,36)\n",
    "t2=(99,98,97,96)\n",
    "sum=t1+t2\n",
    "print(sum)"
   ]
  },
  {
   "cell_type": "markdown",
   "id": "7a62f436",
   "metadata": {},
   "source": [
    "### Q37. Repeat a tuple 3 times."
   ]
  },
  {
   "cell_type": "code",
   "execution_count": null,
   "id": "1342d94a",
   "metadata": {},
   "outputs": [],
   "source": [
    "t1=(33,34,35,36)\n",
    "for t1 in range(3):\n",
    "    print(t1)"
   ]
  },
  {
   "cell_type": "markdown",
   "id": "5d54389e",
   "metadata": {},
   "source": [
    "### Q38. Find the index of an element in a tuple."
   ]
  },
  {
   "cell_type": "code",
   "execution_count": null,
   "id": "3dbcc47b",
   "metadata": {},
   "outputs": [],
   "source": [
    "t1=(33,34,35,36)\n",
    "t2=t1.index(2)"
   ]
  },
  {
   "cell_type": "markdown",
   "id": "41e0cb37",
   "metadata": {},
   "source": [
    "### Q39. Use tuple unpacking to assign values to variables."
   ]
  },
  {
   "cell_type": "code",
   "execution_count": null,
   "id": "b38c6788",
   "metadata": {},
   "outputs": [],
   "source": [
    "t1=('ahmed',21,'cairo')\n",
    "t1=name,age,city\n",
    "print(t1)"
   ]
  },
  {
   "cell_type": "markdown",
   "id": "70b69ddd",
   "metadata": {},
   "source": [
    "### Q40. Create a nested list and access an inner element."
   ]
  },
  {
   "cell_type": "code",
   "execution_count": null,
   "id": "0d05b3e7",
   "metadata": {},
   "outputs": [],
   "source": []
  },
  {
   "cell_type": "markdown",
   "id": "70256f64",
   "metadata": {},
   "source": [
    "### Q41. Create a set of 5 unique colors."
   ]
  },
  {
   "cell_type": "code",
   "execution_count": null,
   "id": "4be1c2bb",
   "metadata": {},
   "outputs": [],
   "source": [
    "s1={'red, blue, green, black, brown'}\n",
    "print(s1)"
   ]
  },
  {
   "cell_type": "markdown",
   "id": "774bddd7",
   "metadata": {},
   "source": [
    "### Q42. Add a new color to the set."
   ]
  },
  {
   "cell_type": "code",
   "execution_count": null,
   "id": "9129a921",
   "metadata": {},
   "outputs": [],
   "source": [
    "s1={'red, blue, green, black, brown'}\n",
    "s2=s1.add\n",
    "print(s2)"
   ]
  },
  {
   "cell_type": "markdown",
   "id": "3cc0470c",
   "metadata": {},
   "source": [
    "### Q43. Remove an item from the set using `remove()`."
   ]
  },
  {
   "cell_type": "code",
   "execution_count": null,
   "id": "e85423ac",
   "metadata": {},
   "outputs": [],
   "source": [
    "s1={'red, blue, green, black, brown'}\n",
    "s2=s1.remove(red)\n",
    "print(s1)"
   ]
  },
  {
   "cell_type": "markdown",
   "id": "b7047e3b",
   "metadata": {},
   "source": [
    "### Q44. Use `discard()` to remove an item that may or may not exist."
   ]
  },
  {
   "cell_type": "code",
   "execution_count": null,
   "id": "adf2b3c2",
   "metadata": {},
   "outputs": [],
   "source": [
    "s1={'red, blue, green, black, brown'}\n",
    "s2=s1.discard(blue)\n",
    "print(s1)"
   ]
  },
  {
   "cell_type": "markdown",
   "id": "0c0338ca",
   "metadata": {},
   "source": [
    "### Q45. Create a set from a list with duplicate values."
   ]
  },
  {
   "cell_type": "code",
   "execution_count": null,
   "id": "6918aaf4",
   "metadata": {},
   "outputs": [],
   "source": [
    "l1=['22, 24, 55, 23']\n",
    "s1=set(l1)\n",
    "print(s1)"
   ]
  },
  {
   "cell_type": "markdown",
   "id": "531ece70",
   "metadata": {},
   "source": [
    "### Q46. Find the union of two sets."
   ]
  },
  {
   "cell_type": "code",
   "execution_count": null,
   "id": "f7c8d3a1",
   "metadata": {},
   "outputs": [],
   "source": [
    "s1={'red, blue, green, black, brown'}\n",
    "s2={'red, yellow, black, brown, orange'}\n",
    "us=s1.union(s2)\n",
    "print(us)\n",
    "\n"
   ]
  },
  {
   "cell_type": "markdown",
   "id": "37ddac6b",
   "metadata": {},
   "source": [
    "### Q47. Find the intersection of two sets."
   ]
  },
  {
   "cell_type": "code",
   "execution_count": null,
   "id": "cbb3d58f",
   "metadata": {},
   "outputs": [],
   "source": [
    "s1={'red, blue, green, black, brown'}\n",
    "s2={'red, yellow, black, brown, orange'}\n",
    "rs=s1.intersection(s2)\n",
    "print(rs)\n"
   ]
  },
  {
   "cell_type": "markdown",
   "id": "cfba12fb",
   "metadata": {},
   "source": [
    "### Q48. Find the difference between two sets."
   ]
  },
  {
   "cell_type": "code",
   "execution_count": null,
   "id": "87d9d198",
   "metadata": {},
   "outputs": [],
   "source": [
    "s1={'red, blue, green, black, brown'}\n",
    "s2={'red, yellow, black, brown, orange'}\n",
    "ds=s1.difference(s2)\n",
    "print(ds)"
   ]
  },
  {
   "cell_type": "markdown",
   "id": "fe3124b5",
   "metadata": {},
   "source": [
    "### Q49. Check if a set is a subset of another set."
   ]
  },
  {
   "cell_type": "code",
   "execution_count": null,
   "id": "9414638f",
   "metadata": {},
   "outputs": [],
   "source": [
    "s1={'red, blue, green, black, brown'}\n",
    "s2={'red, yellow, black, brown, orange'}\n",
    "sss=s1.issubset(s2)\n",
    "print(sss)"
   ]
  },
  {
   "cell_type": "markdown",
   "id": "3155bdce",
   "metadata": {},
   "source": [
    "### Q50. Check if two sets are disjoint."
   ]
  },
  {
   "cell_type": "code",
   "execution_count": null,
   "id": "14b85863",
   "metadata": {},
   "outputs": [],
   "source": [
    "s1={'red, blue, green, black, brown'}\n",
    "s2={'red, yellow, black, brown, orange'}\n",
    "if s1.isdisjoint(s2):\n",
    "    print(yes)\n",
    "else:\n",
    "    print(no)"
   ]
  },
  {
   "cell_type": "markdown",
   "id": "bad362eb",
   "metadata": {},
   "source": [
    "### Q51. Create a dictionary with 3 items: name, age, and city."
   ]
  },
  {
   "cell_type": "code",
   "execution_count": null,
   "id": "e2ae3ccd",
   "metadata": {},
   "outputs": [],
   "source": [
    "d1={'ahmed', 21, 'cairo'}\n",
    "print(d1)"
   ]
  },
  {
   "cell_type": "markdown",
   "id": "222708fb",
   "metadata": {},
   "source": [
    "### Q52. Add a new key-value pair to the dictionary."
   ]
  },
  {
   "cell_type": "code",
   "execution_count": null,
   "id": "f309e8a9",
   "metadata": {},
   "outputs": [],
   "source": [
    "d1={'ahmed', 21, 'cairo'}\n",
    "d2=d1.add(james)\n",
    "print(d2)"
   ]
  },
  {
   "cell_type": "markdown",
   "id": "608c6307",
   "metadata": {},
   "source": [
    "### Q53. Update the value of an existing key in the dictionary."
   ]
  },
  {
   "cell_type": "code",
   "execution_count": null,
   "id": "a47b25b9",
   "metadata": {},
   "outputs": [],
   "source": [
    "d1={'ahmed', 21, 'cairo'}\n",
    "d2=d1.update(22)\n",
    "print(d2)"
   ]
  },
  {
   "cell_type": "markdown",
   "id": "99e23fe0",
   "metadata": {},
   "source": [
    "### Q54. Remove a key from the dictionary using `pop()`."
   ]
  },
  {
   "cell_type": "code",
   "execution_count": null,
   "id": "eb851e69",
   "metadata": {},
   "outputs": [],
   "source": [
    "d1={'ahmed', 21, 'cairo'}\n",
    "d2=d1.remove(cairo)\n",
    "print(d2)"
   ]
  },
  {
   "cell_type": "markdown",
   "id": "c84dbe1f",
   "metadata": {},
   "source": [
    "### Q55. Check if a key exists in the dictionary."
   ]
  },
  {
   "cell_type": "code",
   "execution_count": null,
   "id": "6c8dfaec",
   "metadata": {},
   "outputs": [],
   "source": [
    "d1={'ahmed', 21, 'cairo'}\n",
    "if ahmed in d1:\n",
    " print(yes)\n",
    "else:\n",
    " print(no)"
   ]
  },
  {
   "cell_type": "markdown",
   "id": "430ec294",
   "metadata": {},
   "source": [
    "### Q56. Loop through a dictionary and print all keys and values."
   ]
  },
  {
   "cell_type": "code",
   "execution_count": null,
   "id": "6795ec48",
   "metadata": {},
   "outputs": [],
   "source": [
    "d1={'ahmed', 21, 'cairo'}\n",
    "for"
   ]
  },
  {
   "cell_type": "markdown",
   "id": "da3690bb",
   "metadata": {},
   "source": [
    "### Q57. Get all keys from a dictionary using `keys()`."
   ]
  },
  {
   "cell_type": "code",
   "execution_count": null,
   "id": "cb54c698",
   "metadata": {},
   "outputs": [],
   "source": [
    "d1={'ahmed', 21, 'cairo'}\n",
    "d2=d1.keys()\n",
    "print(d2)"
   ]
  },
  {
   "cell_type": "markdown",
   "id": "d31b70c5",
   "metadata": {},
   "source": [
    "### Q58. Get all values from a dictionary using `values()`."
   ]
  },
  {
   "cell_type": "code",
   "execution_count": null,
   "id": "3a766b70",
   "metadata": {},
   "outputs": [],
   "source": [
    "d1={'ahmed', 21, 'cairo'}\n",
    "d2=d1.values()\n",
    "print(d2)"
   ]
  },
  {
   "cell_type": "markdown",
   "id": "b0a9ba1f",
   "metadata": {},
   "source": [
    "### Q59. Get all key-value pairs using `items()`."
   ]
  },
  {
   "cell_type": "code",
   "execution_count": null,
   "id": "10080491",
   "metadata": {},
   "outputs": [],
   "source": [
    "d1={'ahmed', 21, 'cairo'}\n",
    "d2=d1.items()\n",
    "print(d2)"
   ]
  },
  {
   "cell_type": "markdown",
   "id": "58cd862e",
   "metadata": {},
   "source": [
    "### Q60. Create a dictionary from two lists: one for keys and one for values."
   ]
  },
  {
   "cell_type": "code",
   "execution_count": null,
   "id": "24a5326f",
   "metadata": {},
   "outputs": [],
   "source": []
  }
 ],
 "metadata": {
  "kernelspec": {
   "display_name": "Python 3",
   "language": "python",
   "name": "python3"
  },
  "language_info": {
   "name": "python",
   "version": "3.13.0"
  }
 },
 "nbformat": 4,
 "nbformat_minor": 5
}
