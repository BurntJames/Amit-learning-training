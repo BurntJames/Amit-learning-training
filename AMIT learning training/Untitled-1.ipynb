{
 "cells": [
  {
   "cell_type": "code",
   "execution_count": null,
   "id": "66aa241a",
   "metadata": {},
   "outputs": [],
   "source": [
    "class car:\n",
    "    def __init__(self,brand,model,year):\n",
    "        self.brand=brand\n",
    "        self.model=model\n",
    "        self.year=year\n",
    "        self.speed=0\n",
    "        def accelerate(self):\n",
    "            self.speed+=10\n",
    "        \n",
    "            if self.speed>= 220:\n",
    "                self.speed =220\n",
    "                print('you are at max speed') \n",
    "                \n",
    "            def brake(self):\n",
    "             self.speed-=10\n",
    "             if self.speed<=0:\n",
    "                self.speed=0\n",
    "            \n",
    "             print(f\"{self.speed}is speed -=10\")\n",
    "             def display_info(self):\n",
    "              print(f'brand:{self.brand}, model:{self.model}, year:{self.year}')"
   ]
  }
 ],
 "metadata": {
  "kernelspec": {
   "display_name": "Python 3",
   "language": "python",
   "name": "python3"
  },
  "language_info": {
   "codemirror_mode": {
    "name": "ipython",
    "version": 3
   },
   "file_extension": ".py",
   "mimetype": "text/x-python",
   "name": "python",
   "nbconvert_exporter": "python",
   "pygments_lexer": "ipython3",
   "version": "3.13.0"
  }
 },
 "nbformat": 4,
 "nbformat_minor": 5
}
